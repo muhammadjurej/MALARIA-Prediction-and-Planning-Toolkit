{
 "cells": [
  {
   "cell_type": "code",
   "execution_count": 1,
   "metadata": {},
   "outputs": [
    {
     "name": "stdout",
     "output_type": "stream",
     "text": [
      "d:\\MPPT\\notebook\n",
      "d:\\MPPT\n"
     ]
    }
   ],
   "source": [
    "%cd D:\n",
    "%cd .."
   ]
  },
  {
   "cell_type": "code",
   "execution_count": 2,
   "metadata": {},
   "outputs": [],
   "source": [
    "from MPPT_src.mppt_model import MPPT_Model\n",
    "from keras.layers import Flatten\n",
    "import tensorflow as tf\n",
    "import pandas as pd\n",
    "from sklearn.preprocessing import StandardScaler, MinMaxScaler\n",
    "import numpy as np\n",
    "from sklearn.model_selection import train_test_split\n",
    "import numpy as np"
   ]
  },
  {
   "cell_type": "code",
   "execution_count": 3,
   "metadata": {},
   "outputs": [],
   "source": [
    "df = pd.read_excel(\"dataset/MPPT.xlsx\")\n",
    "df = df.drop([\"Lat\", \"Tahun \", \"Provinsi\", \"Jumlah Penduduk (ribu jiwa)\", \"Jumlah kemiskinan (sem.2 (september))\", \"Lon\", \"Negara\"], axis=1)\n",
    "X = df.iloc[:, :-2]\n",
    "Y_reg = df.iloc[:,-2]\n",
    "Y_clf = df.iloc[:,-1]\n",
    "stdScaler = StandardScaler() # ada nilai minus\n",
    "minmaxScaler = MinMaxScaler() # tanpa nilai minus\n",
    "X_stdScaled = stdScaler.fit_transform(X)\n",
    "X_minmaxScaled = minmaxScaler.fit_transform(X)"
   ]
  },
  {
   "cell_type": "code",
   "execution_count": 4,
   "metadata": {},
   "outputs": [],
   "source": [
    "endemisitas_class = [\"Eliminasi\", \"Rendah\", \"Sedang\", \"Tinggi\"]"
   ]
  },
  {
   "cell_type": "code",
   "execution_count": 5,
   "metadata": {},
   "outputs": [],
   "source": [
    "X_train, X_test, y_clf_train, y_clf_test = train_test_split(X_minmaxScaled, Y_clf, test_size=0.1, random_state=42)\n",
    "X_train, X_test, y_reg_train, y_reg_test = train_test_split(X_minmaxScaled, Y_reg, test_size=0.2, random_state=42)"
   ]
  },
  {
   "cell_type": "markdown",
   "metadata": {},
   "source": [
    "## ENDEMISITAS"
   ]
  },
  {
   "cell_type": "code",
   "execution_count": 6,
   "metadata": {},
   "outputs": [
    {
     "name": "stderr",
     "output_type": "stream",
     "text": [
      "2023-03-07 19:34:05.563 | INFO     | MPPT_src.mppt_model:load_mppt_mlp:182 - model mlp mppt model\\mlp_cls\\end_model.h5 loaded!\n",
      "2023-03-07 19:34:06.334 | INFO     | MPPT_src.mppt_model:load_mppt_ml:318 - ml best model model\\ml_cls\\DTc.pkl loaded!\n"
     ]
    }
   ],
   "source": [
    "end_mppt = MPPT_Model(predict_model='END')\n",
    "end_mlp = end_mppt.load_mppt_mlp('model\\mlp_cls\\end_model.h5')\n",
    "end_ml = end_mppt.load_mppt_ml('model\\ml_cls\\DTc.pkl')"
   ]
  },
  {
   "cell_type": "code",
   "execution_count": 11,
   "metadata": {},
   "outputs": [
    {
     "name": "stderr",
     "output_type": "stream",
     "text": [
      "2023-03-07 19:35:19.534 | INFO     | MPPT_src.mppt_model:mppt_ml_predict:333 - Hasil prediksi Endimisitas Malaria -> Sedang\n"
     ]
    },
    {
     "name": "stdout",
     "output_type": "stream",
     "text": [
      "class:  Sedang\n",
      "ML_predict:  status: Sedang\n",
      "1/1 [==============================] - 0s 400ms/step\n"
     ]
    },
    {
     "name": "stderr",
     "output_type": "stream",
     "text": [
      "2023-03-07 19:35:20.128 | INFO     | MPPT_src.mppt_model:mppt_mlp_predict:202 - Hasil prediksi Endimisitas Malaria -> Sedang\n"
     ]
    },
    {
     "name": "stdout",
     "output_type": "stream",
     "text": [
      "MLP predict:  status: Sedang\n"
     ]
    }
   ],
   "source": [
    "def test_end_model(n, mlp, ml):\n",
    "      test = X_test[n,:]\n",
    "      flatten = Flatten()\n",
    "      y = endemisitas_class[y_clf_test.values[n]]\n",
    "      print('class: ', y)\n",
    "      print('ML_predict: ', end_mppt.mppt_ml_predict(test, ml))\n",
    "      print('MLP predict: ', end_mppt.mppt_mlp_predict(tf.reshape(flatten(test), (1, 15)), mlp))\n",
    "      \n",
    "test_end_model(3, end_mlp, end_ml)"
   ]
  },
  {
   "cell_type": "markdown",
   "metadata": {},
   "source": [
    "## Annual Paracite Incidence (API)"
   ]
  },
  {
   "cell_type": "code",
   "execution_count": 9,
   "metadata": {},
   "outputs": [
    {
     "name": "stderr",
     "output_type": "stream",
     "text": [
      "2023-03-07 19:34:59.112 | INFO     | MPPT_src.mppt_model:load_mppt_mlp:182 - model mlp mppt model\\mlp_reg\\api_model.h5 loaded!\n",
      "2023-03-07 19:35:00.619 | INFO     | MPPT_src.mppt_model:load_mppt_ml:318 - ml best model model\\ml_reg\\RFr.pkl loaded!\n"
     ]
    }
   ],
   "source": [
    "api_mppt = MPPT_Model(predict_model='API')\n",
    "api_mlp = api_mppt.load_mppt_mlp('model\\\\mlp_reg\\\\api_model.h5')\n",
    "api_ml = api_mppt.load_mppt_ml('model\\ml_reg\\RFr.pkl')"
   ]
  },
  {
   "cell_type": "code",
   "execution_count": 13,
   "metadata": {},
   "outputs": [
    {
     "name": "stderr",
     "output_type": "stream",
     "text": [
      "2023-03-07 19:45:28.612 | INFO     | MPPT_src.mppt_model:mppt_ml_predict:337 - Hasil prediksi API Malaria -> 3.1136799999999987\n"
     ]
    },
    {
     "name": "stdout",
     "output_type": "stream",
     "text": [
      "[1.31736527e-01 7.34052705e-05 1.25391850e-02 5.36258158e-01\n",
      " 5.06446991e-01 2.35665366e-02 5.68965517e-01 6.21973929e-01\n",
      " 4.01960784e-01 2.19375640e-02 6.04795258e-02 5.48267084e-03\n",
      " 2.22115910e-01 7.68542172e-01 9.23857868e-01]\n",
      "class:  3.89\n",
      "ML_predict:  3.1136799999999987\n",
      "1/1 [==============================] - 0s 118ms/step\n"
     ]
    },
    {
     "name": "stderr",
     "output_type": "stream",
     "text": [
      "2023-03-07 19:45:28.960 | INFO     | MPPT_src.mppt_model:mppt_mlp_predict:206 - Hasil prediksi API Malaria -> [[12.09923]]\n"
     ]
    },
    {
     "name": "stdout",
     "output_type": "stream",
     "text": [
      "MLP predict:  [[12.09923]]\n"
     ]
    },
    {
     "ename": "",
     "evalue": "",
     "output_type": "error",
     "traceback": [
      "The Kernel crashed while executing code in the the current cell or a previous cell. Please review the code in the cell(s) to identify a possible cause of the failure. Click <a href='https://aka.ms/vscodeJupyterKernelCrash'>here</a> for more info. View Jupyter <a href='command:jupyter.viewOutput'>log</a> for further details."
     ]
    }
   ],
   "source": [
    "def test_end_model(n, mlp, ml):\n",
    "      test = X_test[n,:]\n",
    "      flatten = Flatten()\n",
    "      y = y_reg_test.values[n]\n",
    "      print('class: ', y)\n",
    "      print('ML_predict: ', api_mppt.mppt_ml_predict(test, ml))\n",
    "      print('MLP predict: ', api_mppt.mppt_mlp_predict(tf.reshape(test, (1, 15)), mlp))\n",
    "      \n",
    "test_end_model(15, api_mlp, api_ml)"
   ]
  },
  {
   "cell_type": "code",
   "execution_count": null,
   "metadata": {},
   "outputs": [],
   "source": []
  }
 ],
 "metadata": {
  "kernelspec": {
   "display_name": "Python 3.8.16 ('DS')",
   "language": "python",
   "name": "python3"
  },
  "language_info": {
   "codemirror_mode": {
    "name": "ipython",
    "version": 3
   },
   "file_extension": ".py",
   "mimetype": "text/x-python",
   "name": "python",
   "nbconvert_exporter": "python",
   "pygments_lexer": "ipython3",
   "version": "3.8.16"
  },
  "orig_nbformat": 4,
  "vscode": {
   "interpreter": {
    "hash": "9de888cae86b57a8e685b8bba94ae3d9d55e4e1c6f5ebf68e162deee111e1efd"
   }
  }
 },
 "nbformat": 4,
 "nbformat_minor": 2
}
